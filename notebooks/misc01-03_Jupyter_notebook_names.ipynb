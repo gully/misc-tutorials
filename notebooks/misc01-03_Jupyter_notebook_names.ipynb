{
 "cells": [
  {
   "cell_type": "markdown",
   "metadata": {},
   "source": [
    "# Misc-tutorials\n",
    "## 01- Startups and defaults\n",
    "### Part III: Jupyter-notebook names\n",
    "\n",
    "gully  \n",
    "August 2016"
   ]
  },
  {
   "cell_type": "markdown",
   "metadata": {},
   "source": [
    "I usually name my Jupyter notebooks with the same convention:\n",
    "\n",
    "`proj_XX-YY_description_separated_by_underscores.ipynb`\n",
    "\n",
    "where:\n",
    "- `proj` is the project name or abbreviation, usually same as GitHub repo\n",
    "- `XX` is a GitHub issue describing the task examined in the Notebook\n",
    "- `YY` is a sub task in that GitHub issue, or simply a running number\n",
    "- `description_separated_by_underscores` is a description to jog your memory on what that notebook does\n",
    "\n",
    "I've found that this system works for me.\n",
    "\n",
    "I still haven't found a great way to version control notebooks, but [nbdime](https://github.com/jupyter/nbdime) is promising.\n",
    "\n",
    "\n",
    "The key part is the GitHub issue tracker.  This is a great way to organize a project, since it's traceable back to the conversation (whether a monologue or dialogue) describing the task in more detail.  The issue need not be an \"issue\" by the normal definition, but can simply say \"spot check the data with plots\" or \"do some exploratory analysis to get a feel for the data\".\n",
    "\n"
   ]
  },
  {
   "cell_type": "code",
   "execution_count": null,
   "metadata": {
    "collapsed": true
   },
   "outputs": [],
   "source": []
  }
 ],
 "metadata": {
  "kernelspec": {
   "display_name": "Python 3",
   "language": "python",
   "name": "python3"
  },
  "language_info": {
   "codemirror_mode": {
    "name": "ipython",
    "version": 3
   },
   "file_extension": ".py",
   "mimetype": "text/x-python",
   "name": "python",
   "nbconvert_exporter": "python",
   "pygments_lexer": "ipython3",
   "version": "3.4.5"
  }
 },
 "nbformat": 4,
 "nbformat_minor": 0
}
