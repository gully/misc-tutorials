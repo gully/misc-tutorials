{
 "cells": [
  {
   "cell_type": "markdown",
   "metadata": {},
   "source": [
    "# Misc-tutorials\n",
    "## 01- Startups and defaults\n",
    "### Part II: IPython browser\n",
    "\n",
    "gully  \n",
    "August 2016"
   ]
  },
  {
   "cell_type": "markdown",
   "metadata": {},
   "source": [
    "I often have a Jupyter notebook open, and I want to switch back-and-forth between a web browser running a Jupyter Notebook, and a web browser for looking up something on the internet (*e.g.* Stack Overflow).  When you're using the *same* web browser for bother of these you can't easily `alt-tab` between them, unless you set up a custom shortcut for intra-program tabbing.  \n",
    "\n",
    "My solution for this was inspired by Chris Albon, who mentioned that he uses *two different browsers*: one for Jupyter and one for everything else.  I figured out how to this and forgot, but I remember it being easy.  When I remember I'll link to it here."
   ]
  }
 ],
 "metadata": {
  "kernelspec": {
   "display_name": "Python 3",
   "language": "python",
   "name": "python3"
  },
  "language_info": {
   "codemirror_mode": {
    "name": "ipython",
    "version": 3
   },
   "file_extension": ".py",
   "mimetype": "text/x-python",
   "name": "python",
   "nbconvert_exporter": "python",
   "pygments_lexer": "ipython3",
   "version": "3.4.5"
  }
 },
 "nbformat": 4,
 "nbformat_minor": 0
}
