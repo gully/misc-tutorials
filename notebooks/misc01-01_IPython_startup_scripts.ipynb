{
 "cells": [
  {
   "cell_type": "markdown",
   "metadata": {},
   "source": [
    "# Misc-tutorials\n",
    "## 01- Startups and defaults\n",
    "### Part I: IPython startup Scripts\n",
    "\n",
    "gully  \n",
    "August 2016"
   ]
  },
  {
   "cell_type": "markdown",
   "metadata": {},
   "source": [
    "There are some python imports that I use *so often* that I immediately import them every time I start python.  Here they are:"
   ]
  },
  {
   "cell_type": "code",
   "execution_count": 1,
   "metadata": {
    "collapsed": false
   },
   "outputs": [
    {
     "name": "stdout",
     "output_type": "stream",
     "text": [
      "Ran IPython Notebook Startup Script.\n"
     ]
    }
   ],
   "source": [
    "import numpy as np\n",
    "import matplotlib.pyplot as plt\n",
    "import seaborn as sns\n",
    "%config InlineBackend.figure_format = 'retina'\n",
    "%matplotlib inline\n",
    "print(\"Ran IPython Notebook Startup Script.\")"
   ]
  },
  {
   "cell_type": "markdown",
   "metadata": {},
   "source": [
    "Rather than copy and paste them into my notebook every time (which is what I used to do), I know have them in a special startup script located:"
   ]
  },
  {
   "cell_type": "code",
   "execution_count": 4,
   "metadata": {
    "collapsed": false
   },
   "outputs": [
    {
     "name": "stdout",
     "output_type": "stream",
     "text": [
      "#import numpy as np\r\n",
      "#import matplotlib.pyplot as plt\r\n",
      "#import seaborn as sns\r\n",
      "#%config InlineBackend.figure_format = 'retina'\r\n",
      "#%matplotlib inline\r\n",
      "#print(\"Ran IPython Notebook Startup Script.\")"
     ]
    }
   ],
   "source": [
    "! cat ~/.ipython/profile_default/startup/start.ipy"
   ]
  },
  {
   "cell_type": "markdown",
   "metadata": {},
   "source": [
    "I've turned them off temporarily (by commenting out each line) for this demo."
   ]
  }
 ],
 "metadata": {
  "kernelspec": {
   "display_name": "Python 3",
   "language": "python",
   "name": "python3"
  },
  "language_info": {
   "codemirror_mode": {
    "name": "ipython",
    "version": 3
   },
   "file_extension": ".py",
   "mimetype": "text/x-python",
   "name": "python",
   "nbconvert_exporter": "python",
   "pygments_lexer": "ipython3",
   "version": "3.4.5"
  }
 },
 "nbformat": 4,
 "nbformat_minor": 0
}
